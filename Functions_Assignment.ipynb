{
  "nbformat": 4,
  "nbformat_minor": 0,
  "metadata": {
    "colab": {
      "provenance": []
    },
    "kernelspec": {
      "name": "python3",
      "display_name": "Python 3"
    },
    "language_info": {
      "name": "python"
    }
  },
  "cells": [
    {
      "cell_type": "markdown",
      "source": [
        "**FUNCTIONS**\n",
        "\n",
        "**Theory Questions**\n",
        "\n",
        "\n",
        "### 1. What is the difference between a function and a method in Python?\n",
        "- **Function**: A function is a block of code that performs a specific task. It can be called independently, without being tied to an object or class.\n",
        "- **Method**: A method is a function that is associated with an object or class and is called on an instance of that class.\n",
        "\n",
        "**Example**:\n",
        "```python\n",
        "# Function\n",
        "def add(a, b):\n",
        "    return a + b\n",
        "\n",
        "print(add(2, 3))  # Output: 5\n",
        "\n",
        "# Method\n",
        "class Calculator:\n",
        "    def add(self, a, b):\n",
        "        return a + b\n",
        "\n",
        "calc = Calculator()\n",
        "print(calc.add(2, 3))  # Output: 5\n",
        "```\n",
        "\n",
        "### 2. Explain the concept of function arguments and parameters in Python.\n",
        "- **Parameter**: A parameter is a variable that is defined in the function definition and will hold the value passed to the function.\n",
        "- **Argument**: An argument is the actual value you provide when calling a function.\n",
        "\n",
        "**Example**:\n",
        "```python\n",
        "def greet(name):  # 'name' is a parameter\n",
        "    print(f\"Hello, {name}!\")\n",
        "\n",
        "greet(\"Rupam\")  # \"Rupam\" is the argument\n",
        "```\n",
        "\n",
        "### 3. What are the different ways to define and call a function in Python?\n",
        "Functions can be defined using the `def` keyword, and can be called by their name with the required arguments.\n",
        "\n",
        "- **Regular function**:\n",
        "```python\n",
        "def greet(name):\n",
        "    print(f\"Hello, {name}!\")\n",
        "\n",
        "greet(\"Rupam\")\n",
        "```\n",
        "\n",
        "- **Lambda function**:\n",
        "```python\n",
        "greet = lambda name: print(f\"Hello, {name}!\")\n",
        "greet(\"Rupam\")\n",
        "```\n",
        "\n",
        "### 4. What is the purpose of the `return` statement in a Python function?\n",
        "The `return` statement is used to exit a function and send a value back to the caller. Without `return`, the function returns `None`.\n",
        "\n",
        "**Example**:\n",
        "```python\n",
        "def square(x):\n",
        "    return x * x\n",
        "\n",
        "result = square(5)\n",
        "print(result)  # Output: 25\n",
        "```\n",
        "\n",
        "### 5. What are iterators in Python and how do they differ from iterables?\n",
        "- **Iterable**: An object that can return an iterator (e.g., lists, tuples, strings). You can loop over an iterable using a for loop.\n",
        "- **Iterator**: An object that represents a stream of data. It implements two methods: `__iter__()` and `__next__()`.\n",
        "\n",
        "**Example**:\n",
        "```python\n",
        "# Iterable (List)\n",
        "my_list = [1, 2, 3]\n",
        "\n",
        "# Iterator (created from iterable)\n",
        "my_iter = iter(my_list)\n",
        "\n",
        "# Access elements one by one using the iterator\n",
        "print(next(my_iter))  # Output: 1\n",
        "print(next(my_iter))  # Output: 2\n",
        "```\n",
        "\n",
        "### 6. Explain the concept of generators in Python and how they are defined.\n",
        "A **generator** is a special type of iterator that is defined using a function with the `yield` keyword. Generators are memory-efficient because they generate items on-the-fly.\n",
        "\n",
        "**Example**:\n",
        "```python\n",
        "def count_up_to(max):\n",
        "    count = 1\n",
        "    while count <= max:\n",
        "        yield count\n",
        "        count += 1\n",
        "\n",
        "gen = count_up_to(3)\n",
        "print(next(gen))  # Output: 1\n",
        "print(next(gen))  # Output: 2\n",
        "print(next(gen))  # Output: 3\n",
        "```\n",
        "\n",
        "### 7. What are the advantages of using generators over regular functions?\n",
        "- **Memory Efficiency**: Generators don’t store the entire list in memory; they yield one item at a time.\n",
        "- **Lazy Evaluation**: Values are computed only when needed, which can save computation time for large datasets.\n",
        "\n",
        "**Example**:\n",
        "Using a generator to process large data without storing it entirely in memory.\n",
        "\n",
        "```python\n",
        "def large_range():\n",
        "    for i in range(1000000):\n",
        "        yield i\n",
        "\n",
        "gen = large_range()\n",
        "print(next(gen))  # Output: 0\n",
        "```\n",
        "\n",
        "### 8. What is a lambda function in Python and when is it typically used?\n",
        "A **lambda function** is an anonymous function defined using the `lambda` keyword. It's used for short, throwaway functions that are not reused.\n",
        "\n",
        "**Example**:\n",
        "```python\n",
        "# Lambda function for adding two numbers\n",
        "add = lambda x, y: x + y\n",
        "print(add(2, 3))  # Output: 5\n",
        "```\n",
        "\n",
        "### 9. Explain the purpose and usage of the `map()` function in Python.\n",
        "The `map()` function applies a given function to each item in an iterable (e.g., list) and returns a map object (iterator). It’s typically used when you need to perform the same operation on each item of an iterable.\n",
        "\n",
        "**Example**:\n",
        "```python\n",
        "def square(x):\n",
        "    return x * x\n",
        "\n",
        "numbers = [1, 2, 3, 4]\n",
        "squared_numbers = map(square, numbers)\n",
        "print(list(squared_numbers))  # Output: [1, 4, 9, 16]\n",
        "```\n",
        "\n",
        "### 10. What is the difference between `map()`, `reduce()`, and `filter()` functions in Python?\n",
        "- **`map()`**: Applies a function to all items in an iterable and returns a map object.\n",
        "- **`filter()`**: Filters items in an iterable based on a function that returns a boolean value, and returns a filter object with items that evaluate to `True`.\n",
        "- **`reduce()`**: Performs a rolling computation on a list (or any iterable) and returns a single cumulative result (part of the `functools` module).\n",
        "\n",
        "**Example**:\n",
        "```python\n",
        "from functools import reduce\n",
        "\n",
        "# map example: Square each number\n",
        "numbers = [1, 2, 3, 4]\n",
        "squares = map(lambda x: x * x, numbers)\n",
        "print(list(squares))  # Output: [1, 4, 9, 16]\n",
        "\n",
        "# filter example: Get even numbers\n",
        "evens = filter(lambda x: x % 2 == 0, numbers)\n",
        "print(list(evens))  # Output: [2, 4]\n",
        "\n",
        "# reduce example: Sum all numbers\n",
        "sum_numbers = reduce(lambda x, y: x + y, numbers)\n",
        "print(sum_numbers)  # Output: 10\n",
        "```\n",
        "\n",
        "### 11. Using pen & Paper write the internal mechanism for sum operation using  reduce function on this given list:[47,11,42,13];\n",
        "\n",
        "Answer for this attached as image file."
      ],
      "metadata": {
        "id": "jpeizM8UmiCB"
      }
    },
    {
      "cell_type": "markdown",
      "source": [
        "**Practical Questions:**\n",
        "\n",
        " 1. Write a Python function that takes a list of numbers as input and returns the sum of all even numbers in\n",
        "the list."
      ],
      "metadata": {
        "id": "lYeR_zcdnMQE"
      }
    },
    {
      "cell_type": "code",
      "source": [
        "def sum_even_numbers(numbers):\n",
        "    return sum(num for num in numbers if num % 2 == 0)\n"
      ],
      "metadata": {
        "id": "B1S0G0ea7QYj"
      },
      "execution_count": null,
      "outputs": []
    },
    {
      "cell_type": "markdown",
      "source": [
        "2. Create a Python function that accepts a string and returns the reverse of that string."
      ],
      "metadata": {
        "id": "Z03zu6iI7aIX"
      }
    },
    {
      "cell_type": "code",
      "source": [
        "def reverse_string(s):\n",
        "    return s[::-1]\n"
      ],
      "metadata": {
        "id": "3nJC-pyu7hTj"
      },
      "execution_count": null,
      "outputs": []
    },
    {
      "cell_type": "markdown",
      "source": [
        " 3. Implement a Python function that takes a list of integers and returns a new list containing the squares of\n",
        "each number."
      ],
      "metadata": {
        "id": "6NON7JUF7lK0"
      }
    },
    {
      "cell_type": "code",
      "source": [
        "def square_numbers(numbers):\n",
        "    return [num ** 2 for num in numbers]\n"
      ],
      "metadata": {
        "id": "keKaQwi07qdc"
      },
      "execution_count": null,
      "outputs": []
    },
    {
      "cell_type": "markdown",
      "source": [
        " 4. Write a Python function that checks if a given number is prime or not from 1 to 200."
      ],
      "metadata": {
        "id": "lfb1fZia7znA"
      }
    },
    {
      "cell_type": "code",
      "source": [
        "def is_prime(n):\n",
        "    if n < 2:\n",
        "        return False\n",
        "    for i in range(2, int(n ** 0.5) + 1):\n",
        "        if n % i == 0:\n",
        "            return False\n",
        "    return True\n",
        "\n",
        "# Check primes between 1 and 200\n",
        "primes = [num for num in range(1, 201) if is_prime(num)]\n",
        "print(primes)\n"
      ],
      "metadata": {
        "colab": {
          "base_uri": "https://localhost:8080/"
        },
        "id": "RHKRR-6-73Io",
        "outputId": "4de7ad70-812e-4208-d840-ac3890fbc3d0"
      },
      "execution_count": null,
      "outputs": [
        {
          "output_type": "stream",
          "name": "stdout",
          "text": [
            "[2, 3, 5, 7, 11, 13, 17, 19, 23, 29, 31, 37, 41, 43, 47, 53, 59, 61, 67, 71, 73, 79, 83, 89, 97, 101, 103, 107, 109, 113, 127, 131, 137, 139, 149, 151, 157, 163, 167, 173, 179, 181, 191, 193, 197, 199]\n"
          ]
        }
      ]
    },
    {
      "cell_type": "markdown",
      "source": [
        "5. Create an iterator class in Python that generates the Fibonacci sequence up to a specified number of\n",
        "terms."
      ],
      "metadata": {
        "id": "WSW4nVcb8Ctk"
      }
    },
    {
      "cell_type": "code",
      "source": [
        "class FibonacciIterator:\n",
        "    def __init__(self, terms):\n",
        "        self.terms = terms\n",
        "        self.a, self.b = 0, 1\n",
        "        self.count = 0\n",
        "\n",
        "    def __iter__(self):\n",
        "        return self\n",
        "\n",
        "    def __next__(self):\n",
        "        if self.count < self.terms:\n",
        "            self.count += 1\n",
        "            result = self.a\n",
        "            self.a, self.b = self.b, self.a + self.b\n",
        "            return result\n",
        "        else:\n",
        "            raise StopIteration\n"
      ],
      "metadata": {
        "id": "D_vuYpxN8LuZ"
      },
      "execution_count": null,
      "outputs": []
    },
    {
      "cell_type": "markdown",
      "source": [
        " 6. Write a generator function in Python that yields the powers of 2 up to a given exponent."
      ],
      "metadata": {
        "id": "Bf_M8G8R8Zmt"
      }
    },
    {
      "cell_type": "code",
      "source": [
        "def powers_of_2(exponent):\n",
        "    for i in range(exponent + 1):\n",
        "        yield 2 ** i\n"
      ],
      "metadata": {
        "id": "KXu5_E_E8acO"
      },
      "execution_count": null,
      "outputs": []
    },
    {
      "cell_type": "markdown",
      "source": [
        " 7. Implement a generator function that reads a file line by line and yields each line as a string."
      ],
      "metadata": {
        "id": "Vu2KQGff8yq_"
      }
    },
    {
      "cell_type": "code",
      "source": [
        "def read_file_line_by_line(file_path):\n",
        "    with open(file_path, 'r') as file:\n",
        "        for line in file:\n",
        "            yield line.strip()\n"
      ],
      "metadata": {
        "id": "SRjQW5d381Ey"
      },
      "execution_count": null,
      "outputs": []
    },
    {
      "cell_type": "markdown",
      "source": [
        " 8. Use a lambda function in Python to sort a list of tuples based on the second element of each tuple."
      ],
      "metadata": {
        "id": "ZvHee1Yu86tz"
      }
    },
    {
      "cell_type": "code",
      "source": [
        "tuples_list = [(1, 'apple'), (3, 'banana'), (2, 'cherry')]\n",
        "sorted_list = sorted(tuples_list, key=lambda x: x[1])\n",
        "print(sorted_list)\n"
      ],
      "metadata": {
        "colab": {
          "base_uri": "https://localhost:8080/"
        },
        "id": "Ez5RJYAV8-8D",
        "outputId": "ac2bb683-21d4-44d4-dc90-aed0858cfea7"
      },
      "execution_count": null,
      "outputs": [
        {
          "output_type": "stream",
          "name": "stdout",
          "text": [
            "[(1, 'apple'), (3, 'banana'), (2, 'cherry')]\n"
          ]
        }
      ]
    },
    {
      "cell_type": "markdown",
      "source": [
        "9. Write a Python program that uses `map()` to convert a list of temperatures from Celsius to Fahrenheit."
      ],
      "metadata": {
        "id": "GWCfNsPd9eS2"
      }
    },
    {
      "cell_type": "code",
      "source": [
        "def celsius_to_fahrenheit(celsius):\n",
        "    return (celsius * 9/5) + 32\n",
        "\n",
        "temperatures_celsius = [0, 20, 30, 40]\n",
        "temperatures_fahrenheit = list(map(celsius_to_fahrenheit, temperatures_celsius))\n",
        "print(temperatures_fahrenheit)\n"
      ],
      "metadata": {
        "colab": {
          "base_uri": "https://localhost:8080/"
        },
        "id": "tDT5KQZj9fY3",
        "outputId": "2dbaee40-70ef-4548-f4d5-645e9b55b190"
      },
      "execution_count": null,
      "outputs": [
        {
          "output_type": "stream",
          "name": "stdout",
          "text": [
            "[32.0, 68.0, 86.0, 104.0]\n"
          ]
        }
      ]
    },
    {
      "cell_type": "markdown",
      "source": [
        " 10. Create a Python program that uses `filter()` to remove all the vowels from a given string."
      ],
      "metadata": {
        "id": "EYT98f-c9m_O"
      }
    },
    {
      "cell_type": "code",
      "source": [
        "def remove_vowels(s):\n",
        "    return ''.join(filter(lambda x: x.lower() not in 'aeiou', s))\n",
        "\n",
        "string = \"Hello Rupam\"\n",
        "result = remove_vowels(string)\n",
        "print(result)\n"
      ],
      "metadata": {
        "colab": {
          "base_uri": "https://localhost:8080/"
        },
        "id": "sxYZcbRN9tLB",
        "outputId": "ca5de2f7-941f-4b82-e3bd-fcae85ad3de5"
      },
      "execution_count": null,
      "outputs": [
        {
          "output_type": "stream",
          "name": "stdout",
          "text": [
            "Hll Rpm\n"
          ]
        }
      ]
    },
    {
      "cell_type": "markdown",
      "source": [
        "11. Imagine an accounting routine used in a book shop. It works on a list with sublists, which look like this:\n",
        " Write a Python program, which returns a list with 2-tuples. Each tuple consists of the order number and the\n",
        "product of the price per item and the quantity. The product should be increased by 10,- € if the value of the\n",
        "order is smaller than 100,00 €.\n",
        " Write a Python program using lambda and map."
      ],
      "metadata": {
        "id": "XF1WyaVJAI5Y"
      }
    },
    {
      "cell_type": "code",
      "source": [
        "orders = [\n",
        "(34587, \"Learning Python, Mark Lutz\", 4, 40.95),\n",
        "(98762, \"Programming Python, Mark Lutz\", 5, 56.80),\n",
        "(77226, \"Head First Python, Paul Barry\", 3, 32.95),\n",
        "(88112, \"Einführung in Python3, Bernd Klein\", 3, 24.99),\n",
        "]\n",
        "\n",
        "# Lambda function to calculate the total order cost\n",
        "calculate_total = lambda order: (order[0], order[2] * order[3] if order[2] * order[3] >= 100 else order[2] * order[3] + 10)\n",
        "\n",
        "# Using map to apply the lambda function\n",
        "order_totals = list(map(calculate_total, orders))\n",
        "\n",
        "print(order_totals)"
      ],
      "metadata": {
        "id": "ebN29sksAQe-",
        "outputId": "c22b0bbb-795a-47d2-e193-3f03c6f05351",
        "colab": {
          "base_uri": "https://localhost:8080/"
        }
      },
      "execution_count": null,
      "outputs": [
        {
          "output_type": "stream",
          "name": "stdout",
          "text": [
            "[(34587, 163.8), (98762, 284.0), (77226, 108.85000000000001), (88112, 84.97)]\n"
          ]
        }
      ]
    }
  ]
}